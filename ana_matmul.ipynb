{
 "cells": [
  {
   "cell_type": "code",
   "execution_count": 10,
   "id": "3ba59133",
   "metadata": {},
   "outputs": [
    {
     "name": "stdout",
     "output_type": "stream",
     "text": [
      "Matrix multiplication types and their counts:\n",
      "  1024 x 1024 x 1   ==>  112 times\n",
      "  1024 x 3072 x 1   ==>  112 times\n",
      "  1024 x 2048 x 1   ==>  56 times\n",
      "  128 x 512 x 8   ==>  56 times\n",
      "  512 x 128 x 8   ==>  56 times\n",
      "  2048 x 1024 x 1   ==>  56 times\n",
      "  3072 x 1024 x 1   ==>  56 times\n",
      "  1024 x 151669 x 1   ==>  2 times\n"
     ]
    }
   ],
   "source": [
    "from collections import defaultdict\n",
    "import re\n",
    "\n",
    "# 定义存储结构\n",
    "matmul_counts = defaultdict(int)\n",
    "\n",
    "# 打开并读取文件\n",
    "file_path = \"/home/cc/haibin2/llama.cpp/build/bin/matmul.txt\"\n",
    "with open(file_path, \"r\") as f:\n",
    "    for line in f:\n",
    "        # 只分析包含矩阵乘法的日志行\n",
    "        if \"ggml_compute_forward_mul_mat\" in line:\n",
    "            # 提取 ne00, ne01, ne10, ne11 等维度信息\n",
    "            match = re.findall(r'ne\\d+ = (\\d+)', line)\n",
    "            if match and len(match) >= 2:\n",
    "                # 只关注前两个维度（即矩阵的形状）\n",
    "                shape = (int(match[0]), int(match[1]), int(match[2]), int(match[3]))\n",
    "                matmul_counts[shape] += 1\n",
    "\n",
    "# 打印所有矩阵乘法类型及其数量\n",
    "print(\"Matrix multiplication types and their counts:\")\n",
    "for shape, count in sorted(matmul_counts.items(), key=lambda x: -x[1]):\n",
    "    print(f\"  {shape[0]} x {shape[1]} x {shape[2]}   ==>  {count} times\")\n"
   ]
  }
 ],
 "metadata": {
  "kernelspec": {
   "display_name": "LLM_OMP",
   "language": "python",
   "name": "python3"
  },
  "language_info": {
   "codemirror_mode": {
    "name": "ipython",
    "version": 3
   },
   "file_extension": ".py",
   "mimetype": "text/x-python",
   "name": "python",
   "nbconvert_exporter": "python",
   "pygments_lexer": "ipython3",
   "version": "3.10.16"
  }
 },
 "nbformat": 4,
 "nbformat_minor": 5
}
